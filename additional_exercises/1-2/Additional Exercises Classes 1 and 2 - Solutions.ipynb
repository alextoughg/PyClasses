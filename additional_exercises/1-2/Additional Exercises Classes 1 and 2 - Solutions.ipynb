{
 "cells": [
  {
   "cell_type": "markdown",
   "metadata": {},
   "source": [
    "# Additional Exercises Classes 1 and 2\n",
    "\n",
    "## Assignment operator and values\n",
    "\n",
    "1. Rearrange the following lines of code so that the value of the variable lang4 is 'Panoan'. "
   ]
  },
  {
   "cell_type": "code",
   "execution_count": null,
   "metadata": {},
   "outputs": [],
   "source": [
    "lang1 = 'Tupian'\n",
    "lang2 = 'Macro-Je'\n",
    "lang3 = 'Cariban'\n",
    "lang4 = 'Arawakan'\n",
    "lang5 = 'Panoan'\n",
    "lang2 = lang1\n",
    "lang4 = lang3  \n",
    "lang3 = lang2\n",
    "lang5 = lang4\n",
    "lang2 = lang5\n",
    "lang4"
   ]
  },
  {
   "cell_type": "code",
   "execution_count": null,
   "metadata": {},
   "outputs": [],
   "source": [
    "# Solution\n",
    "\n",
    "lang1 = 'Tupian'\n",
    "lang2 = 'Macro-Je'\n",
    "lang3 = 'Cariban'\n",
    "lang4 = 'Arawakan'\n",
    "lang5 = 'Panoan'\n",
    "lang2 = lang5\n",
    "lang3 = lang2\n",
    "lang2 = lang1\n",
    "lang4 = lang3  \n",
    "lang5 = lang4\n",
    "lang4"
   ]
  },
  {
   "cell_type": "markdown",
   "metadata": {},
   "source": [
    "2. A professor has received \\$19,000 for a research grant. An undergraduate student can work for \\$1,750 per summer. How many undergraduate students can the professor hire for her project? Print the result using the **print** function."
   ]
  },
  {
   "cell_type": "code",
   "execution_count": null,
   "metadata": {},
   "outputs": [],
   "source": [
    "# Solution\n",
    "\n",
    "grant_money = 19000\n",
    "student_rate = 1750 \n",
    "number_of_students = grant_money // student_rate\n",
    "print(number_of_students)"
   ]
  },
  {
   "cell_type": "markdown",
   "metadata": {},
   "source": [
    "3. Recall the variables we defined in our first class:"
   ]
  },
  {
   "cell_type": "code",
   "execution_count": null,
   "metadata": {},
   "outputs": [],
   "source": [
    "MC = 'Love in the Time of Cholera'\n",
    "YI = '100 Years of Solitude'\n",
    "SS = 'Chronicle of a Death Foretold'\n",
    "title_list = [MC, YI, SS]"
   ]
  },
  {
   "cell_type": "markdown",
   "metadata": {},
   "source": [
    "If we were to perform the following assignment:"
   ]
  },
  {
   "cell_type": "code",
   "execution_count": null,
   "metadata": {},
   "outputs": [],
   "source": [
    "YI = 'Eyes of a Blue Dog'"
   ]
  },
  {
   "cell_type": "markdown",
   "metadata": {},
   "source": [
    "What is now the value of the second element of title_list?<br>\n",
    "(a) 'Eyes of a Blue Dog' <br>\n",
    "(b) 'Love in the Time of Cholera' <br>\n",
    "(c) '100 Years of Solitude' <br>\n",
    "(d) 'Chronicle of a Death Foretold'"
   ]
  },
  {
   "cell_type": "markdown",
   "metadata": {},
   "source": [
    "**Solution: (c)** The second element of title_list is still the string '100 Years of Solitude'. When we create a list with variables, it is the *values* of those variables that get copied into the list. So even if we change the value of one of the variables (in this case, the variable YI), the values in the list don't change since they have already been copied. "
   ]
  },
  {
   "cell_type": "markdown",
   "metadata": {},
   "source": [
    "4. Suppose you are part of a digital humanities project based on discourse analysis. So far you have counted the number of words for the first five pages of the novel you want to analyze"
   ]
  },
  {
   "cell_type": "code",
   "execution_count": null,
   "metadata": {},
   "outputs": [],
   "source": [
    "word_counts = [728, 627, 701, 750, 653]"
   ]
  },
  {
   "cell_type": "markdown",
   "metadata": {},
   "source": [
    "Since the word counts are pretty close to each other, a good number to \"represent\" them would be the average. Calculate the average of the words in the list, and print the result using the print command.  "
   ]
  },
  {
   "cell_type": "code",
   "execution_count": null,
   "metadata": {},
   "outputs": [],
   "source": [
    "# Solution 1\n",
    "# Counter for the word_counts\n",
    "word_count_total = 0\n",
    "# Counter for the length of the list\n",
    "list_count_total = 0\n",
    "for word_count in word_counts:\n",
    "    word_count_total = word_count_total + word_count\n",
    "    list_count_total = list_count_total + 1\n",
    "average = word_count_total / list_count_total \n",
    "print(average)"
   ]
  },
  {
   "cell_type": "code",
   "execution_count": null,
   "metadata": {},
   "outputs": [],
   "source": [
    "# Solution 2\n",
    "# Counter for the word_counts\n",
    "word_count_total = 0\n",
    "list_count_total = len(word_counts)\n",
    "for word_count in word_counts:\n",
    "    word_count_total = word_count_total + word_count\n",
    "average = word_count_total / list_count_total\n",
    "print(average)"
   ]
  },
  {
   "cell_type": "markdown",
   "metadata": {},
   "source": [
    "5. Suppose now we have the word counts of the first 20 pages of our book, stored in a file called \"word_counts.txt\", with one word count per line. Open the file and print each word count as a **number**. To accomplish this, you will need to do the following:<br>\n",
    "(a) Open the file \"word_counts.txt\" using the framework we used in class.<br> \n",
    "(b) For each line in the file:\n",
    "    - Each line, which contains one number, is a string. Convert this to a number using the **int** command (illustrated below).\n",
    "    - Print the converted number using the **print** command.<br> "
   ]
  },
  {
   "cell_type": "code",
   "execution_count": null,
   "metadata": {},
   "outputs": [],
   "source": [
    "### how to convert a string to a number\n",
    "number_as_string = \"3\"\n",
    "number = int(number_as_string)"
   ]
  },
  {
   "cell_type": "code",
   "execution_count": null,
   "metadata": {},
   "outputs": [],
   "source": [
    "# Solution\n",
    "\n",
    "with open('word_counts.txt') as text_file:\n",
    "    for line in text_file:\n",
    "        line = line.strip()\n",
    "        line_as_number = int(line)\n",
    "        print(line_as_number)"
   ]
  },
  {
   "cell_type": "markdown",
   "metadata": {},
   "source": [
    "6. We now realize that to be able to perform a successful analysis, we need to find the highest word count in the file. Calculate the highest word count in \"word_counts.txt\". *Hint: you will need an if-statement*. "
   ]
  },
  {
   "cell_type": "code",
   "execution_count": null,
   "metadata": {},
   "outputs": [],
   "source": [
    "# Solution - this question, and the next one, are a bit tricky. The main idea \n",
    "# here is that you use a variable that stores the 'current' highest number as \n",
    "# you advance in the for-loop. We only update the highest number when we come \n",
    "# across a number that is larger than the 'current' highest word count. That is \n",
    "# why we need an if-statement. \n",
    "# We then print the final highest word count. \n",
    "\n",
    "# Since we know that all of the word counts in the file are greater than 0, \n",
    "# we can use this as our initial value \n",
    "highest_word_count = 0\n",
    "\n",
    "# Same framework as we used to read a file\n",
    "with open('word_counts.txt') as text_file:\n",
    "    for line in text_file:\n",
    "        line = line.strip()\n",
    "        # Convert line to a number, like we did above, \n",
    "        # so we can use it in the condition of the \n",
    "        # if statement\n",
    "        line_as_number = int(line)\n",
    "        # If we come across a larger number than the largest \n",
    "        # one we have seen so far, we update the largest one \n",
    "        # we have seen so far with this new larger number \n",
    "        if line_as_number > highest_word_count:\n",
    "            highest_word_count = line_as_number\n",
    "print(highest_word_count)"
   ]
  },
  {
   "cell_type": "markdown",
   "metadata": {},
   "source": [
    "7. Suppose now that our project also required us to find the *lowest* word count in \"word_counts.txt\". Find the lowest word count in \"word_counts.txt\" (*Hint: the solution has a very similar structure to the solution to the task of finding the highest page count.*). You may assume that no word count in \"word_counts.txt\" is greater than 800. <br>\n",
    "Then write both the lowest page count and the highest page count to a file called \"results.txt\", one line per result. "
   ]
  },
  {
   "cell_type": "code",
   "execution_count": null,
   "metadata": {},
   "outputs": [],
   "source": [
    "# Solution - same idea as above, but we update the lowest_word_count only when we\n",
    "# come across a number that is smaller than our 'current' lowest word count. \n",
    "\n",
    "# Since we know that no word count in the file is greater than 800 (by assumption), \n",
    "# we can use this as our initial value.  \n",
    "lowest_word_count = 800\n",
    "\n",
    "# Same framework as we used to read a file\n",
    "with open('word_counts.txt') as text_file:\n",
    "    for line in text_file:\n",
    "        line = line.strip()\n",
    "        # Convert line to a number, like we did above, \n",
    "        # so we can use it in the condition of the \n",
    "        # if statement\n",
    "        line_as_number = int(line)\n",
    "        # If we come across a smaller number than the lowest \n",
    "        # one we have seen so far, we update the lowest one \n",
    "        # we have seen so far with this new smaller number \n",
    "        if line_as_number < lowest_word_count:\n",
    "            lowest_word_count = line_as_number\n",
    "print(lowest_word_count)"
   ]
  }
 ],
 "metadata": {
  "kernelspec": {
   "display_name": "Python 3",
   "language": "python",
   "name": "python3"
  },
  "language_info": {
   "codemirror_mode": {
    "name": "ipython",
    "version": 3
   },
   "file_extension": ".py",
   "mimetype": "text/x-python",
   "name": "python",
   "nbconvert_exporter": "python",
   "pygments_lexer": "ipython3",
   "version": "3.6.5"
  }
 },
 "nbformat": 4,
 "nbformat_minor": 2
}
