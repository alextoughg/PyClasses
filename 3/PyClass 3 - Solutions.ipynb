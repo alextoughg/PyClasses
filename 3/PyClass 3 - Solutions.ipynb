{
 "cells": [
  {
   "cell_type": "markdown",
   "metadata": {},
   "source": [
    "# Learning to Program: Functions, More on Strings and Lists\n",
    "\n",
    "*\"Any fool can write code that a computer can understand. Good programmers write code that humans can understand.\"*<br>*- Martin Fowler*\n",
    "\n",
    "## Functions\n",
    "\n",
    "Recall the code we created to calculate the length of a list from our first class:"
   ]
  },
  {
   "cell_type": "code",
   "execution_count": null,
   "metadata": {},
   "outputs": [],
   "source": [
    "title_list = ['Love in the Time of Cholera', '100 Years of Solitude', 'Chronicle of a Death Foretold']\n",
    "title_list_count = 0\n",
    "for title in title_list:\n",
    "    title_list_count = title_list_count + 1\n",
    "title_list_count"
   ]
  },
  {
   "cell_type": "markdown",
   "metadata": {},
   "source": [
    "This works fine and does what it is supposed to do. But what if we wanted to calculate the length of another list? We would just copy and paste the code we have in our previous box and simply change the value of the variable title_list:"
   ]
  },
  {
   "cell_type": "code",
   "execution_count": null,
   "metadata": {},
   "outputs": [],
   "source": [
    "title_list = [\"A User's Guide to Thought and Meaning\", 'Foundations of Language']\n",
    "title_list_count = 0\n",
    "for title in title_list:\n",
    "    title_list_count = title_list_count + 1\n",
    "title_list_count"
   ]
  },
  {
   "cell_type": "markdown",
   "metadata": {},
   "source": [
    "But what if we wanted to calculate the length of *another* list? We could repeat this code again, and again. \n",
    "\n",
    "The end result? Our Jupyter notebook is entirely covered by snippets of code which does esentially the same thing over and over.\n",
    "\n",
    "Is there a smarter way to go about doing this? Could there be a way we could re-use code over and over again and only need to write it once?\n",
    "\n",
    "Python allows us to do this with **functions**. \n",
    "\n",
    "A function for the task above (calculating the length of a list) would look like:"
   ]
  },
  {
   "cell_type": "code",
   "execution_count": null,
   "metadata": {},
   "outputs": [],
   "source": [
    "def list_length(t_list):\n",
    "    title_list_count = 0\n",
    "    for title in t_list:\n",
    "        title_list_count = title_list_count + 1\n",
    "    print(title_list_count)"
   ]
  },
  {
   "cell_type": "markdown",
   "metadata": {},
   "source": [
    "There a several parts to a function. Let's take a look at them:\n",
    "\n",
    "1. **def list_length(title_list)**: This is called the **function signature**. It contains three parts: \n",
    "- The **def** keyword, which simply lets Python know that we are defining a function. \n",
    "- The **name** of the function (here it's list_length, but it can be any sequence of characters that follow the same restrictions as naming Python variables) \n",
    "- The **parameters** of the function. Here the parameter is **title_list**, a variable name. \n",
    "\n",
    "You may have noticed that **t_list** is not defined anywhere: we haven't assigned it a value! However, this is ok: here the parameter is just a name for the variables we change in our repeated snippets of code. Since here we only change the value of the variable title_list from snippet to snippet, we only need to create one parameter, namely t_list. \n",
    "\n",
    "You may also be asking: why didn't we use the name \"title_list\" to name our parameter? Why go through the trouble of renaming it \"t_list\"? We do this since we already defined the variable title_list above, and it is good programming practice to keep definitions separate.  If we hadn't defined title_list, we could have absolutely used this name as a parameter. \n",
    "\n",
    "- The **body** of the function: contains the code of the task we want to perform (in this case, the code we use to calculate the length of a list). It is always indented with respect to the other parts of the function. \n",
    "\n",
    "- **print(title_list_count)**: prints the final result of our list_length task. We can't we simply write the name of the variable, like we did before? It turns out that Python doesn't know what to do with a variable name at the end of a function, so it doesn't allow it. That is why we need to print the value of the variable. \n",
    "\n",
    "Now for the million dollar question: how can we actually use this function on the different lists we have?\n",
    "\n",
    "Ideally we need something like (for the first list):"
   ]
  },
  {
   "cell_type": "code",
   "execution_count": null,
   "metadata": {},
   "outputs": [],
   "source": [
    "t_list = [\"A User's Guide to Thought and Meaning\", 'Foundations of Language']\n",
    "title_list_count = 0\n",
    "    for title in t_list:\n",
    "        title_list_count = title_list_count + 1\n",
    "print(title_list_count)"
   ]
  },
  {
   "cell_type": "markdown",
   "metadata": {},
   "source": [
    "It turns out that the following code is equivalent:"
   ]
  },
  {
   "cell_type": "code",
   "execution_count": null,
   "metadata": {},
   "outputs": [],
   "source": [
    "list_length([\"A User's Guide to Thought and Meaning\", 'Foundations of Language'])"
   ]
  },
  {
   "cell_type": "markdown",
   "metadata": {},
   "source": [
    "This is called a **function call**. It has two parts: \n",
    "- The name of the function (list_length)\n",
    "- The arguments of the function (here the list [\"A User's Guide to Thought and Meaning\", 'Foundations of Language'])\n",
    "\n",
    "A function call 'activates' a function. Here is what happens during a function call:\n",
    "1. Each argument is assigned as a value to a parameter of the function. Recall from above that the parameter to our list_length function was   "
   ]
  },
  {
   "cell_type": "code",
   "execution_count": null,
   "metadata": {},
   "outputs": [],
   "source": [
    "### Do not run this code\n",
    "t_list"
   ]
  },
  {
   "cell_type": "markdown",
   "metadata": {},
   "source": [
    "and our argument in our function call is "
   ]
  },
  {
   "cell_type": "code",
   "execution_count": null,
   "metadata": {},
   "outputs": [],
   "source": [
    "### Do not run this code\n",
    "[\"A User's Guide to Thought and Meaning\", 'Foundations of Language']"
   ]
  },
  {
   "cell_type": "markdown",
   "metadata": {},
   "source": [
    "So what essentially happens is the parameter t_list is assigned the value of the argument passed"
   ]
  },
  {
   "cell_type": "code",
   "execution_count": null,
   "metadata": {},
   "outputs": [],
   "source": [
    "### Do not run this code\n",
    "t_list = [\"A User's Guide to Thought and Meaning\", 'Foundations of Language']"
   ]
  },
  {
   "cell_type": "markdown",
   "metadata": {},
   "source": [
    "**inside our function**. Notice that t_list would **not** be available outside of the function list_length. \n",
    "\n",
    "2. The function's body (the indented code) is executed with the parameters assigned. So for our example we would get:"
   ]
  },
  {
   "cell_type": "code",
   "execution_count": null,
   "metadata": {},
   "outputs": [],
   "source": [
    "### Do not run this code\n",
    "t_list = [\"A User's Guide to Thought and Meaning\", 'Foundations of Language']\n",
    "title_list_count = 0\n",
    "    for title in t_list:\n",
    "        title_list_count = title_list_count + 1\n",
    "print(title_list_count)"
   ]
  },
  {
   "cell_type": "markdown",
   "metadata": {},
   "source": [
    "Let's verify that this is indeed the case: "
   ]
  },
  {
   "cell_type": "code",
   "execution_count": null,
   "metadata": {},
   "outputs": [],
   "source": [
    "# Function definition\n",
    "def list_length(t_list):\n",
    "    # Added a print statement here to show that t_list gets assigned its value from the \n",
    "    # argument to the function call\n",
    "    #print(\"The value of t_list is\",t_list)\n",
    "    title_list_count = 0\n",
    "    for title in t_list:\n",
    "        title_list_count = title_list_count + 1\n",
    "    print(title_list_count)\n",
    "    \n",
    "# Function call    \n",
    "list_length([\"A User's Guide to Thought and Meaning\", 'Foundations of Language'])"
   ]
  },
  {
   "cell_type": "markdown",
   "metadata": {},
   "source": [
    "**Exercise:** Write a function called print_file that prints the contents of a file, and then call that function with the file name 'five_grams.csv'. "
   ]
  },
  {
   "cell_type": "code",
   "execution_count": null,
   "metadata": {},
   "outputs": [],
   "source": [
    "# delete this and type your answer here. "
   ]
  },
  {
   "cell_type": "markdown",
   "metadata": {},
   "source": [
    "Now let's suppose that after applying our list_length function we wanted to store the result in a variable. We should just do a variable assignment, right?"
   ]
  },
  {
   "cell_type": "code",
   "execution_count": null,
   "metadata": {},
   "outputs": [],
   "source": [
    "list1 = [\"A User's Guide to Thought and Meaning\", 'Foundations of Language']\n",
    "len_list1 = list_length(list1)\n",
    "print(len_list1)"
   ]
  },
  {
   "cell_type": "markdown",
   "metadata": {},
   "source": [
    "Wait, *what*? \n",
    "\n",
    "Why do we get this strange value \"None\" instead of the number 2? \n",
    "\n",
    "The reason for this is that when we print a variable, we are just *inspecting* the contents of the container that is labelled with that variable name. So in the case of our list_length function, the line "
   ]
  },
  {
   "cell_type": "code",
   "execution_count": null,
   "metadata": {},
   "outputs": [],
   "source": [
    "### do not run this code\n",
    "print(title_list_count)"
   ]
  },
  {
   "cell_type": "markdown",
   "metadata": {},
   "source": [
    "just inspects the value of title_list_count, but doesn't copy it for further use. If we want an actual \"copy\" of the contents of the variable name, we need to tell Python to do so. We can do this with the **return** keyword. "
   ]
  },
  {
   "cell_type": "code",
   "execution_count": null,
   "metadata": {},
   "outputs": [],
   "source": [
    "def list_length(t_list):\n",
    "    title_list_count = 0\n",
    "    for title in t_list:\n",
    "        title_list_count = title_list_count + 1\n",
    "    return title_list_count"
   ]
  },
  {
   "cell_type": "markdown",
   "metadata": {},
   "source": [
    "Now, when we call this function, we'll get a value that we can assign to a variable. "
   ]
  },
  {
   "cell_type": "code",
   "execution_count": null,
   "metadata": {},
   "outputs": [],
   "source": [
    "list1 = [\"A User's Guide to Thought and Meaning\", 'Foundations of Language']\n",
    "len_list1 = list_length(list1)\n",
    "print(len_list1)"
   ]
  },
  {
   "cell_type": "markdown",
   "metadata": {},
   "source": [
    "Note that the value of the variable that is returned in a function doesn't necessarily have to be an integer - it can be any one of the types of values we have seen so far (string, float, list - even a dictionary!). \n",
    "\n",
    "**Exercise:** Recall the dictionary we created that associated a book title with its year of publication: "
   ]
  },
  {
   "cell_type": "code",
   "execution_count": 1,
   "metadata": {},
   "outputs": [
    {
     "name": "stdout",
     "output_type": "stream",
     "text": [
      "{'Chronicle of a Death Foretold': 1981, 'One Hundred Years of Solitude': 1967, 'Love in the Time of Cholera': 1985}\n"
     ]
    }
   ],
   "source": [
    "title_and_year = {}\n",
    "title_and_year['Chronicle of a Death Foretold'] = 1981\n",
    "title_and_year['One Hundred Years of Solitude'] = 1967\n",
    "title_and_year['Love in the Time of Cholera'] = 1985\n",
    "print(title_and_year)"
   ]
  },
  {
   "cell_type": "markdown",
   "metadata": {},
   "source": [
    "Create a function that takes in as a parameter a book title and returns the year of publication. If the book title taken in as a parameter is not in the dictionary, return 0. Check that your function works by running the function calls below. "
   ]
  },
  {
   "cell_type": "code",
   "execution_count": 2,
   "metadata": {},
   "outputs": [
    {
     "name": "stdout",
     "output_type": "stream",
     "text": [
      "1981\n",
      "0\n"
     ]
    }
   ],
   "source": [
    "# Solution 1\n",
    "def publication_year(title):\n",
    "    if title in title_and_year:\n",
    "        pub_year = title_and_year[title]\n",
    "        return pub_year\n",
    "    else:\n",
    "        return 0\n",
    "\n",
    "# Function calls\n",
    "chronicle_pub_year = publication_year('Chronicle of a Death Foretold')\n",
    "aspects_pub_year = publication_year('Aspects of the Theory of Syntax')\n",
    "print(chronicle_pub_year)\n",
    "print(aspects_pub_year)"
   ]
  },
  {
   "cell_type": "code",
   "execution_count": 3,
   "metadata": {},
   "outputs": [
    {
     "name": "stdout",
     "output_type": "stream",
     "text": [
      "1981\n",
      "0\n"
     ]
    }
   ],
   "source": [
    "# Solution 2\n",
    "def publication_year(title):\n",
    "    value_to_return = 0\n",
    "    if title in title_and_year:\n",
    "        value_to_return = title_and_year[title]\n",
    "    return value_to_return\n",
    "\n",
    "# Function calls\n",
    "chronicle_pub_year = publication_year('Chronicle of a Death Foretold')\n",
    "aspects_pub_year = publication_year('Aspects of the Theory of Syntax')\n",
    "print(chronicle_pub_year)\n",
    "print(aspects_pub_year)"
   ]
  },
  {
   "cell_type": "markdown",
   "metadata": {},
   "source": [
    "*Side note*: Recall our framework for reading a file from the previous class:"
   ]
  },
  {
   "cell_type": "code",
   "execution_count": null,
   "metadata": {},
   "outputs": [],
   "source": [
    "# No need to run this code\n",
    "with open('marquez_works.txt') as text_file:\n",
    "    for line in text_file:\n",
    "        line = line.strip()\n",
    "        # code to perform with each line"
   ]
  },
  {
   "cell_type": "markdown",
   "metadata": {},
   "source": [
    "You may have been confused by the line"
   ]
  },
  {
   "cell_type": "code",
   "execution_count": null,
   "metadata": {},
   "outputs": [],
   "source": [
    "line = line.strip()"
   ]
  },
  {
   "cell_type": "markdown",
   "metadata": {},
   "source": [
    "But in fact, we can see this now for what it is: it's a function call! Some types - such as lists, dictionaries and strings - have *built-in functions*: these are functions that were made by the creators of Python which encapsulate common tasks, such as calculating the length of a list, listing the items of a dictionary, or removing the endline character ('\\n'), like the strip( ) function. We'll take a deeper look at this in the next section. \n",
    "\n",
    "For those keen observers, you may have noticed a slight change in terminology: what I referred to before as **commands** are in fact **function calls**. From this point on I will refer to commands as what they are, function calls. \n",
    "\n",
    "Notice that a function doesn't necessarily have to have only one parameter. It can take in no parameters (as with the strip( ) function), as well as two or more parameters. If the function takes in two or more parameters, each parameter is separated by a comma, as in the example below:"
   ]
  },
  {
   "cell_type": "code",
   "execution_count": null,
   "metadata": {},
   "outputs": [],
   "source": [
    "def add_two_numbers(number1, number2):\n",
    "    number_sum = number1 + number2\n",
    "    return number_sum\n",
    "\n",
    "s = add_two_numbers(3,5)\n",
    "print(s)"
   ]
  },
  {
   "cell_type": "markdown",
   "metadata": {},
   "source": [
    "**Exercise:** Write a function that takes as parameter a list of strings and a string and returns True if the string is in the list of strings, and False otherwise. "
   ]
  },
  {
   "cell_type": "code",
   "execution_count": 4,
   "metadata": {},
   "outputs": [
    {
     "name": "stdout",
     "output_type": "stream",
     "text": [
      "True\n",
      "False\n"
     ]
    }
   ],
   "source": [
    "# Solution 1\n",
    "def in_list(list_of_strings, s):\n",
    "    if s in list_of_strings:\n",
    "        return True\n",
    "    else:\n",
    "        return False\n",
    "\n",
    "list1 = [\"A User's Guide to Thought and Meaning\", 'Foundations of Language']\n",
    "s1 = \"A User's Guide to Thought and Meaning\"\n",
    "result = in_list(list1, s1)\n",
    "print(result)\n",
    "\n",
    "s2 = \"Curious George\"\n",
    "result = in_list(list1, s2)\n",
    "print(result)"
   ]
  },
  {
   "cell_type": "code",
   "execution_count": 5,
   "metadata": {},
   "outputs": [
    {
     "name": "stdout",
     "output_type": "stream",
     "text": [
      "True\n",
      "False\n"
     ]
    }
   ],
   "source": [
    "# Solution 2\n",
    "def in_list(list_of_strings, s):\n",
    "    value_to_return = s in list_of_strings\n",
    "    return value_to_return\n",
    "\n",
    "list1 = [\"A User's Guide to Thought and Meaning\", 'Foundations of Language']\n",
    "s1 = \"A User's Guide to Thought and Meaning\"\n",
    "result = in_list(list1, s1)\n",
    "print(result)\n",
    "\n",
    "s2 = \"Curious George\"\n",
    "result = in_list(list1, s2)\n",
    "print(result)"
   ]
  },
  {
   "cell_type": "markdown",
   "metadata": {},
   "source": [
    "Let's sum up what we have learned about functions so far:\n",
    "\n",
    "1. A function is made up of the **function signature** and the **function body**. \n",
    "2. The **function signature** consists of the **function name** and the **parameters**. Function names follow the same rules as variable names, as do the names of the parameters. A function can have zero, one, or two or more parameters. If it has two or more parameters, they are separated by commas. \n",
    "3. The **function body** is the **indented sequence of commands** that the function executes when it is called. It may or may not return a value. If it returns a value, the **return** keyword must be used. \n",
    "4. A **function call** executes the sequence of commands of a function. To call a function, you need its name and its arguments. The number of arguments of call must be the same as the number of parameters of the function. When a function is called, each argument is assigned as a value to its corresponding parameter - it's like a variable assignment occuring inside the function body. "
   ]
  },
  {
   "cell_type": "markdown",
   "metadata": {},
   "source": [
    "## More on Lists\n",
    "\n",
    "Recall what we learned about lists in our initial class:\n",
    "\n",
    "1. A list is a type of value in Python \n",
    "2. A list allows us to group values together. \n",
    "3. A list is created by comma-separated values in square brackets (['one','two','three']). \n",
    "4. The order of the elements in a list matters. \n",
    "\n",
    "Up to this point we have assumed that lists are built beforehand and cannot be modified afterwards. But for most of our text processing tasks, we are going to need to modify our lists somehow. For instance, we will need to add elements to our list, or delete elements from it, even put two lists together. Python makes this easy. \n",
    "\n",
    "### Adding an element to a list\n",
    "\n",
    "Suppose we have a list of nouns we want to analyze:"
   ]
  },
  {
   "cell_type": "code",
   "execution_count": 7,
   "metadata": {},
   "outputs": [
    {
     "name": "stdout",
     "output_type": "stream",
     "text": [
      "['champions', 'Raptors', 'NBA']\n"
     ]
    }
   ],
   "source": [
    "noun_list = ['champions', 'Raptors', 'NBA']\n",
    "print(noun_list)"
   ]
  },
  {
   "cell_type": "markdown",
   "metadata": {},
   "source": [
    "What if we wanted to add the elements 'Warriors', 'losers' to the **end of the list**? How could we do this?\n",
    "\n",
    "One way of doing this would be to create a new list and manually add those elements: "
   ]
  },
  {
   "cell_type": "code",
   "execution_count": null,
   "metadata": {},
   "outputs": [],
   "source": [
    "noun_list_extended = ['champions', 'Raptors', 'NBA', 'Warriors', 'losers']\n",
    "print(noun_list_extended)"
   ]
  },
  {
   "cell_type": "markdown",
   "metadata": {},
   "source": [
    "But then the first list is still lying around and we don't really need it anymore. What we really want is to modify the first list in place so we don't have to create a second list at all. We can do this with a call to the built-in list append function.  "
   ]
  },
  {
   "cell_type": "code",
   "execution_count": null,
   "metadata": {},
   "outputs": [],
   "source": [
    "noun_list.append('Warriors')\n",
    "print(noun_list)\n",
    "\n",
    "noun_list.append('losers')\n",
    "print(noun_list)"
   ]
  },
  {
   "cell_type": "markdown",
   "metadata": {},
   "source": [
    "Notice here that since the list is modified in place, we don't need to assign it as a value to any variable. No value is produced as a result of this operation - only the original list is modified. \n",
    "\n",
    "**Exercise:** Write a function that takes in as parameter a list of words (a list of strings) and a word (a string), and only adds the element to the end of the list if the number of letters in the word is equal to 4. A few things to keep in mind while writing this function:\n",
    "1. Recall that you can calculate the number of characters in a string using the built-in **len( )** function:"
   ]
  },
  {
   "cell_type": "code",
   "execution_count": null,
   "metadata": {},
   "outputs": [],
   "source": [
    "word = 'hello'\n",
    "number_characters = len(word)\n",
    "print(word)"
   ]
  },
  {
   "cell_type": "markdown",
   "metadata": {},
   "source": [
    "2. Think about whether you really need to return anything in your function. Remember, the append function modifies lists in place, even those that are passed through functions! \n",
    "3. An if statement might be handy here. "
   ]
  },
  {
   "cell_type": "code",
   "execution_count": 6,
   "metadata": {},
   "outputs": [
    {
     "name": "stdout",
     "output_type": "stream",
     "text": [
      "['pear', 'buns', 'jobs', 'time', 'bird']\n",
      "['pear', 'buns', 'jobs', 'time', 'bird']\n"
     ]
    }
   ],
   "source": [
    "# Solution\n",
    "def add_four_letter_words_only(word_list, word):\n",
    "    if len(word) == 4:\n",
    "        word_list.append(word)\n",
    "\n",
    "wl = ['pear','buns','jobs','time']\n",
    "\n",
    "add_four_letter_words_only(wl, 'bird')\n",
    "# Should print ['pear','buns','jobs','time', 'bird']\n",
    "print(wl)\n",
    "add_four_letter_words_only(wl, 'pizza')\n",
    "# Should print ['pear','buns','jobs','time', 'bird']\n",
    "print(wl)"
   ]
  },
  {
   "cell_type": "markdown",
   "metadata": {},
   "source": [
    "### Adding two lists together\n",
    "\n",
    "Let's say you have two lists, one containing a list of shape adjectives and another one containing size adjectives:"
   ]
  },
  {
   "cell_type": "code",
   "execution_count": 10,
   "metadata": {},
   "outputs": [],
   "source": [
    "shape_adjectives = ['round','square','triangular']\n",
    "size_adjectives = ['huge','small','tall','thin','thick']"
   ]
  },
  {
   "cell_type": "markdown",
   "metadata": {},
   "source": [
    "Joining these lists together to create a large list of adjectives is easy in Python:"
   ]
  },
  {
   "cell_type": "code",
   "execution_count": 11,
   "metadata": {},
   "outputs": [
    {
     "name": "stdout",
     "output_type": "stream",
     "text": [
      "['round', 'square', 'triangular', 'huge', 'small', 'tall', 'thin', 'thick']\n"
     ]
    }
   ],
   "source": [
    "adjectives = shape_adjectives + size_adjectives\n",
    "print(adjectives)"
   ]
  },
  {
   "cell_type": "markdown",
   "metadata": {},
   "source": [
    "This operation (**+**) is called **concatenation**. \n",
    "\n",
    "Notice that unlike the append function, the concatenation operator:\n",
    "- Does produce a new value (a new list, which can be assigned to a variable).  \n",
    "- Does **not** modify the original lists.  "
   ]
  },
  {
   "cell_type": "markdown",
   "metadata": {},
   "source": [
    "**Exercise**: Append the adjetive list and the noun list we created previously. Append the newline character (\"\\n\") to this new list.  "
   ]
  },
  {
   "cell_type": "code",
   "execution_count": 12,
   "metadata": {},
   "outputs": [
    {
     "name": "stdout",
     "output_type": "stream",
     "text": [
      "['champions', 'Raptors', 'NBA', 'round', 'square', 'triangular', 'huge', 'small', 'tall', 'thin', 'thick', '\\n']\n"
     ]
    }
   ],
   "source": [
    "# Solution\n",
    "nouns_and_adjectives = noun_list + adjectives\n",
    "nouns_and_adjectives.append(\"\\n\")\n",
    "print(nouns_and_adjectives)"
   ]
  },
  {
   "cell_type": "markdown",
   "metadata": {},
   "source": [
    "### Deleting an element from a list\n",
    "\n",
    "Before we see how to delete an element from a list, it would be wise to first see how Python  numbers elements in a list. \n",
    "\n",
    "In programming, unlike in real life, lists are numbered starting at 0. \n",
    "\n",
    "Therefore, for our adjective list:"
   ]
  },
  {
   "cell_type": "code",
   "execution_count": null,
   "metadata": {},
   "outputs": [],
   "source": [
    "adjectives = shape_adjectives + size_adjectives\n",
    "print(adjectives)"
   ]
  },
  {
   "cell_type": "markdown",
   "metadata": {},
   "source": [
    "'round' is the **0th** element of the list, 'square' is the **1st** element of the list, 'triangular' is the **2nd** element of the list, and so on. Another way of saying this is that the **index** of 'round' is 0, the index of 'square' is 1, etc. \n",
    "\n",
    "In Python, deleting an element is usually done by using its index, using the **pop** function. For instance, if we wanted to delete 'triangular' (the 2nd element) from our list of adjectives, we would do the following:"
   ]
  },
  {
   "cell_type": "code",
   "execution_count": null,
   "metadata": {},
   "outputs": [],
   "source": [
    "adjectives.pop(2)\n",
    "print(adjectives)"
   ]
  },
  {
   "cell_type": "markdown",
   "metadata": {},
   "source": [
    "Be careful to use a valid index (from 0 to len(list)-1) when using pop(). Otherwise, you'll get an error. \n",
    "\n",
    "In addition, notice that in Python we can retrieve an element of a list by its index in square brackets:"
   ]
  },
  {
   "cell_type": "code",
   "execution_count": null,
   "metadata": {},
   "outputs": [],
   "source": [
    "adjective0 = adjectives[0]\n",
    "adjective1 = adjectives[1]\n",
    "adjective4 = adjectives[4]\n",
    "print(adjective0)\n",
    "print(adjective1)\n",
    "print(adjective4)"
   ]
  },
  {
   "cell_type": "markdown",
   "metadata": {},
   "source": [
    "**Exercise:** Write a function that, given a list, deletes its last element, and returns the new last element in the list. You may assume that the list has at least two elements.  "
   ]
  },
  {
   "cell_type": "code",
   "execution_count": 13,
   "metadata": {},
   "outputs": [
    {
     "name": "stdout",
     "output_type": "stream",
     "text": [
      "game\n"
     ]
    }
   ],
   "source": [
    "# Solution \n",
    "def delete_last_element(word_list):\n",
    "    # delete last element\n",
    "    last_index = len(word_list) - 1\n",
    "    word_list.pop(last_index)\n",
    "    # return new last element\n",
    "    new_last_index = len(word_list) - 1\n",
    "    new_last_element = word_list[new_last_index]\n",
    "    return new_last_element\n",
    "\n",
    "new_last_element = delete_last_element(['magazine','game','marathon'])\n",
    "# Should print 'game'\n",
    "print(new_last_element)"
   ]
  },
  {
   "cell_type": "markdown",
   "metadata": {},
   "source": [
    "### Get part of a list \n",
    "\n",
    "In our text processing tasks, we'll sometimes need only a certain portion of a list. Python offers some pretty cool ways to get only certain parts of a list, based on the **indexes** of the elements of the list, through the **slicing** operator. The slicing operator in Python consists of a semicolon ( **:** ), as used below:  "
   ]
  },
  {
   "cell_type": "code",
   "execution_count": null,
   "metadata": {},
   "outputs": [],
   "source": [
    "# do not run this code\n",
    "words[start:stop] # retrieves all items of list words from index start to index stop-1\n",
    "words[start:] # retrieves all items starting from index start to the end of the list \n",
    "words[:stop] # retrieves all items starting at the beginning of the list to index stop-1"
   ]
  },
  {
   "cell_type": "markdown",
   "metadata": {},
   "source": [
    "Let's see how this looks like in the context of our adjectives list:"
   ]
  },
  {
   "cell_type": "code",
   "execution_count": null,
   "metadata": {},
   "outputs": [],
   "source": [
    "print(\"Original adjective list:\", adjectives)\n",
    "\n",
    "# 1st to 3rd adjectives\n",
    "adj_1_to_3 = adjectives[1:4]\n",
    "print(\"1st to 3rd items:\", adj_1_to_3)\n",
    "\n",
    "# All adjectives except for the 0th one and 1st one \n",
    "all_except_first_2 = adjectives[2:]\n",
    "print(\"Everything except the first two:\", all_except_first_2)\n",
    "\n",
    "# all adjectives except for the last one \n",
    "last_index = len(adjectives)-1\n",
    "all_except_last_one = adjectives[:last_index]\n",
    "print(\"Everything except for the last one:\", all_except_last_one)"
   ]
  },
  {
   "cell_type": "markdown",
   "metadata": {},
   "source": [
    "Notice that the start and stop indexes could also be negative indexes (what?!). This means that the slicing mechanism starts counting from the end instead of the beginning, like we have been doing up to this point:"
   ]
  },
  {
   "attachments": {
    "indexes.png": {
     "image/png": "[encoded data removed]"
    }
   },
   "cell_type": "markdown",
   "metadata": {},
   "source": [
    "![indexes.png](attachment:indexes.png)"
   ]
  },
  {
   "cell_type": "code",
   "execution_count": 14,
   "metadata": {},
   "outputs": [
    {
     "name": "stdout",
     "output_type": "stream",
     "text": [
      "Original adjective list: ['round', 'square', 'triangular', 'huge', 'small', 'tall', 'thin', 'thick']\n",
      "Last element in the list: thick\n",
      "Last 2 elements in the list: ['thin', 'thick']\n",
      "Everything except for the last two: ['round', 'square', 'triangular', 'huge', 'small', 'tall']\n"
     ]
    }
   ],
   "source": [
    "print(\"Original adjective list:\", adjectives)\n",
    "\n",
    "last_item = adjectives[-1] # last item in the list \n",
    "print(\"Last element in the list:\", last_item)\n",
    "\n",
    "last_2_items = adjectives[-2:] # last 2 items in the list\n",
    "print(\"Last 2 elements in the list:\", last_2_items)\n",
    "\n",
    "all_except_last_two = adjectives[:-2] # everything except the last 2 items\n",
    "print(\"Everything except for the last two:\", all_except_last_two)"
   ]
  },
  {
   "cell_type": "markdown",
   "metadata": {},
   "source": [
    "**Exercise:** Write a function that given a list, returns a list that contains the first two elements and the last two elements of the list. Do not modify the original list. "
   ]
  },
  {
   "cell_type": "code",
   "execution_count": 15,
   "metadata": {},
   "outputs": [
    {
     "name": "stdout",
     "output_type": "stream",
     "text": [
      "['magazine', 'game', 'phone', 'jacket']\n"
     ]
    }
   ],
   "source": [
    "# Solution\n",
    "def first_two_and_last_two(word_list):\n",
    "    first_two = word_list[:2]\n",
    "    last_two = word_list[-2:]\n",
    "    result = first_two + last_two\n",
    "    return result\n",
    "\n",
    "elements = first_two_and_last_two(['magazine','game','marathon','book','phone','jacket'])\n",
    "# Should print ['magazine','game','phone','jacket']\n",
    "print(elements)"
   ]
  },
  {
   "cell_type": "markdown",
   "metadata": {},
   "source": [
    "Let's sum up what we have learned about additional list operations:\n",
    "\n",
    "1. We can **add** an element to a list using the **append** function. \n",
    "2. We can **add two lists together to create a new list** using the **concatenation ( + )** operator. \n",
    "3. Lists are numbered (or **indexed**) starting at 0. \n",
    "4. We can **delete** an element from a list using the **pop** function, passing in the index of the element we wish to remove. \n",
    "5. We can **retrieve a single element** from a list using the index of the element in square brackets. \n",
    "6. We can **retrieve parts of a list** using the **slicing ( : )** operator. We can use positive and negative indices for this.  \n",
    "\n",
    "### More on strings\n",
    "\n",
    "Recall what we learned about strings in the first class:\n",
    "\n",
    "1. Strings are sequences of characters. \n",
    "2. They can be enclosed with single quotes or double quotes. \n",
    "3. Single quotes can be used inside double quotes and vice versa. If we need to use both, to avoid confusion we can apply the escape ( \\ ) character on the inner quotes.\n",
    "\n",
    "Now we can add the following fact to this list: \n",
    "\n",
    "If we consider a **character** as a mini-string that contains a letter or symbol enclosed in single quotes (like 'a'), then a **string is actually a list of characters, with the caveat that this list cannot be modified**. \n",
    "\n",
    "In other words, we cannot **add** or **delete** elements from a string. We can, however: \n",
    "- **Add two strings together to create a new string** \n",
    "- **Retrieve a single character** from the string using the index of the character in square brackets. \n",
    "- **Retrieve parts of a string** using the **slicing** operator.  "
   ]
  },
  {
   "cell_type": "code",
   "execution_count": null,
   "metadata": {},
   "outputs": [],
   "source": [
    "# Add two strings together to create a new string\n",
    "topping = \"pepperoni \"\n",
    "pizza = \"pizza\"\n",
    "pizza_with_topping = topping + pizza\n",
    "print(pizza_with_topping)\n",
    "\n",
    "# Retrieve a single character from a string\n",
    "first_letter = topping[0]\n",
    "print(first_letter)\n",
    "\n",
    "# Retrieve part of a string\n",
    "topping = len(topping)\n",
    "pizza_without_topping = pizza_with_topping[topping:]\n",
    "print(pizza_without_topping)"
   ]
  },
  {
   "cell_type": "markdown",
   "metadata": {},
   "source": [
    "**Exercise:** Suppose you have a list of words that are tagged as nouns or verbs, as so: "
   ]
  },
  {
   "cell_type": "code",
   "execution_count": null,
   "metadata": {},
   "outputs": [],
   "source": [
    "word_list = ['jump_VERB','television_NOUN','eat_VERB','book_NOUN','cook_VERB']"
   ]
  },
  {
   "cell_type": "markdown",
   "metadata": {},
   "source": [
    "Write a function that takes in a word list as above and returns a list with the tags removed. For the above example, the returned list would look like:"
   ]
  },
  {
   "cell_type": "code",
   "execution_count": null,
   "metadata": {},
   "outputs": [],
   "source": [
    "word_list_without_tags = ['jump','television','eat','book','cook']"
   ]
  },
  {
   "cell_type": "markdown",
   "metadata": {},
   "source": [
    "For this exercise, at some point you'll have to use:\n",
    "- List append \n",
    "- String splicing"
   ]
  },
  {
   "cell_type": "code",
   "execution_count": 16,
   "metadata": {},
   "outputs": [
    {
     "name": "stdout",
     "output_type": "stream",
     "text": [
      "['jump', 'television', 'eat', 'book', 'cook']\n"
     ]
    }
   ],
   "source": [
    "# Solution\n",
    "def remove_tags(words):\n",
    "    new_list = []\n",
    "    \n",
    "    for word in words_with_tags:\n",
    "        word_without_tag = word[:-5]\n",
    "        new_list.append(word_without_tag)\n",
    "        \n",
    "    return new_list\n",
    "\n",
    "words_with_tags = ['jump_VERB','television_NOUN','eat_VERB','book_NOUN','cook_VERB']\n",
    "words_without_tags = remove_tags(words_with_tags)\n",
    "# Should print ['jump','television','eat','book','cook']\n",
    "print(words_without_tags)"
   ]
  },
  {
   "cell_type": "markdown",
   "metadata": {},
   "source": [
    "One last thing about strings that comes up often in text processing: let's say we have a big string made up of words that are separated by spaces, like this one:"
   ]
  },
  {
   "cell_type": "code",
   "execution_count": null,
   "metadata": {},
   "outputs": [],
   "source": [
    "a_big_string = \"there is nothing wrong with big strings\""
   ]
  },
  {
   "cell_type": "markdown",
   "metadata": {},
   "source": [
    "It would be convenient if we had a way of separating this big string into the words that make it up. The **split( )** function allows us to do this: splitting the string into a list of smaller strings.  "
   ]
  },
  {
   "cell_type": "code",
   "execution_count": null,
   "metadata": {},
   "outputs": [],
   "source": [
    "words = a_big_string.split()\n",
    "print(words)"
   ]
  },
  {
   "cell_type": "markdown",
   "metadata": {},
   "source": [
    "What's even more useful about the split( ) function is that it is not limited to spaces. We can also split strings that are composed of words separated by commas, by simply passing in the comma string as a parameter to the split( ) function."
   ]
  },
  {
   "cell_type": "code",
   "execution_count": null,
   "metadata": {},
   "outputs": [],
   "source": [
    "comma_separated_string = \"there,are,never,too,many,books,on,my,shelf\"\n",
    "words = comma_separated_string.split(',')\n",
    "print(words)"
   ]
  },
  {
   "cell_type": "markdown",
   "metadata": {},
   "source": [
    "**Exercise:** Recall the print_file function we implemented at the beginning of this class. Implement a function that instead of printing each line of five_grams.csv, prints the list of words that make up each line. "
   ]
  },
  {
   "cell_type": "code",
   "execution_count": 17,
   "metadata": {},
   "outputs": [
    {
     "name": "stdout",
     "output_type": "stream",
     "text": [
      "['a', 'starting', 'point', 'for', 'the']\n",
      "['at', 'the', 'same', 'rate', 'as']\n",
      "['based', 'on', 'the', 'study', 'of']\n",
      "['be', 'returned', 'on', 'or', 'before']\n",
      "['by', 'the', 'library', 'rules', 'or']\n",
      "['by', 'and', 'with', 'the', 'advice']\n",
      "['draws', 'attention', 'to', 'its', 'status']\n",
      "['due', 'on', 'the', 'latest', 'date']\n",
      "['European', 'Journal', 'of', 'Industrial', 'Relations']\n",
      "['even', 'in', 'the', 'presence', 'of']\n"
     ]
    }
   ],
   "source": [
    "# Solution\n",
    "def print_words(filename):\n",
    "    with open(filename) as text_file:\n",
    "        for line in text_file:\n",
    "            line = line.strip()\n",
    "            words = line.split(',')\n",
    "            print(words)\n",
    "\n",
    "print_words('five_grams.csv')"
   ]
  },
  {
   "cell_type": "markdown",
   "metadata": {},
   "source": [
    "### Works Cited\n",
    "Hegwill, Greg. \"Understanding slice notation\". *Stack Overflow*, February 3rd, 2019. "
   ]
  }
 ],
 "metadata": {
  "kernelspec": {
   "display_name": "Python 3",
   "language": "python",
   "name": "python3"
  },
  "language_info": {
   "codemirror_mode": {
    "name": "ipython",
    "version": 3
   },
   "file_extension": ".py",
   "mimetype": "text/x-python",
   "name": "python",
   "nbconvert_exporter": "python",
   "pygments_lexer": "ipython3",
   "version": "3.6.5"
  }
 },
 "nbformat": 4,
 "nbformat_minor": 2
}
